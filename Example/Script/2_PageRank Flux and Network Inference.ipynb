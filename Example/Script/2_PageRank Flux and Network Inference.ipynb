{
 "cells": [
  {
   "cell_type": "code",
   "execution_count": 1,
   "id": "unlike-nothing",
   "metadata": {},
   "outputs": [],
   "source": [
    "import pandas as pd, networkx as nx"
   ]
  },
  {
   "cell_type": "code",
   "execution_count": null,
   "id": "fitting-supplier",
   "metadata": {},
   "outputs": [],
   "source": []
  },
  {
   "cell_type": "code",
   "execution_count": 2,
   "id": "designed-little",
   "metadata": {
    "scrolled": true
   },
   "outputs": [
    {
     "name": "stdout",
     "output_type": "stream",
     "text": [
      "The number of interaction in HIPPIE 783182\n",
      "The number of edges in HIPPIE network 774448\n",
      "The number of nodes in HIPPIE network 19437\n"
     ]
    }
   ],
   "source": [
    "## Reference network preparation \n",
    "\n",
    "HIPPIE_df=pd.read_csv(\"../Source/Interactomes/HIPPIE_v2_3.tab\", keep_default_na=False, sep=\"\\t\")\n",
    "print(\"The number of interaction in HIPPIE\",len(HIPPIE_df.index))\n",
    "HIPPIE_nx=nx.from_pandas_edgelist(HIPPIE_df,\"Gene_1\",\"Gene_2\",edge_attr=\"Score\")\n",
    "self_interactions=list(nx.selfloop_edges(HIPPIE_nx))\n",
    "\n",
    "# during permutation, we have to get rif off self interactions and nan-nan interaction, coming from reference network as a default.\n",
    "for u, v in self_interactions:\n",
    "    if isinstance(u, float):\n",
    "        print(u)\n",
    "    else:\n",
    "        HIPPIE_nx.remove_edge(u,v)\n",
    "    \n",
    "#HIPPIE_nx.remove_edges_from(self_interactions)\n",
    "HIPPIE_df=nx.to_pandas_edgelist(HIPPIE_nx)\n",
    "print(\"The number of edges in HIPPIE network\",HIPPIE_nx.number_of_edges())\n",
    "print(\"The number of nodes in HIPPIE network\",HIPPIE_nx.number_of_nodes())\n",
    "\n",
    "\n",
    "edges=tuple(zip(HIPPIE_df.source,HIPPIE_df.target))\n",
    "for edge in edges:\n",
    "    if edge not in HIPPIE_nx.edges:\n",
    "        print(\"check the edge\",edge)"
   ]
  },
  {
   "cell_type": "code",
   "execution_count": null,
   "id": "human-visitor",
   "metadata": {},
   "outputs": [],
   "source": []
  },
  {
   "cell_type": "code",
   "execution_count": null,
   "id": "everyday-transportation",
   "metadata": {},
   "outputs": [],
   "source": []
  },
  {
   "cell_type": "code",
   "execution_count": null,
   "id": "changing-easter",
   "metadata": {},
   "outputs": [],
   "source": []
  },
  {
   "cell_type": "code",
   "execution_count": 3,
   "id": "annoying-ordinary",
   "metadata": {},
   "outputs": [],
   "source": [
    "## initial nodes and weights \n",
    "\n",
    "initial_nodes_df=pd.read_csv(f'../Source/Netpath/Sampling_0_5/AndrogenReceptor_05A/AndrogenReceptor_05A_var_0.nodes',sep=\"\\t\")\n",
    "\n",
    "initial_nodes=initial_nodes_df.name.to_list()\n",
    "initial_weights=[1 for _ in initial_nodes]"
   ]
  },
  {
   "cell_type": "code",
   "execution_count": null,
   "id": "tested-sheffield",
   "metadata": {},
   "outputs": [],
   "source": []
  },
  {
   "cell_type": "markdown",
   "id": "respected-phone",
   "metadata": {},
   "source": [
    "### PageRank Flux Calculations"
   ]
  },
  {
   "cell_type": "markdown",
   "id": "computational-tooth",
   "metadata": {},
   "source": [
    "Without guidance network, we can directly infer subnetwork from reference network through the PageRankFlux algorithm.\n"
   ]
  },
  {
   "cell_type": "code",
   "execution_count": null,
   "id": "mineral-hearing",
   "metadata": {},
   "outputs": [],
   "source": []
  },
  {
   "cell_type": "code",
   "execution_count": null,
   "id": "dramatic-curve",
   "metadata": {},
   "outputs": [],
   "source": [
    "\n"
   ]
  },
  {
   "cell_type": "code",
   "execution_count": 4,
   "id": "intensive-garage",
   "metadata": {},
   "outputs": [],
   "source": [
    "from Paragon import NetworkInference "
   ]
  },
  {
   "cell_type": "code",
   "execution_count": 5,
   "id": "employed-gibraltar",
   "metadata": {},
   "outputs": [],
   "source": [
    "pgrf=NetworkInference(network=HIPPIE_nx,edge_attribute=\"Score\")\n",
    "pgrf.load_initial_nodes(list(initial_nodes))\n"
   ]
  },
  {
   "cell_type": "markdown",
   "id": "destroyed-execution",
   "metadata": {},
   "source": [
    "##### max_edge_count => the maximum number of edges with the highest flux scores\n",
    "\n",
    "\n",
    "\n",
    "\n",
    "##### alpha => Damping parameter for PageRank, the probability of walking into neighbors \n",
    "\n",
    "\n",
    "##### threshold => the scaling factor, the threshold percentage of summed flux scores,\n",
    "             the algorithm selects the edges from high to low flux scores by summing up the scores till completing intrested percentage  \n",
    "\n",
    "\n",
    "\n",
    "##### intermediate_only => True or False: \n",
    "                 True --> algorithm only select interactions in graphlet guided network between initial nodes.  \n",
    "                 False --> algorithm select interactions in graphlet guided network unconsidering initial nodes.\n"
   ]
  },
  {
   "cell_type": "code",
   "execution_count": 6,
   "id": "brave-strength",
   "metadata": {},
   "outputs": [
    {
     "name": "stdout",
     "output_type": "stream",
     "text": [
      "theshold of 0.045000 limits predictions to 2000 edges\n"
     ]
    }
   ],
   "source": [
    "\n",
    "\n",
    "\n",
    "returned_nx=pgrf.reconstruct_subnetwork( max_edge_count=2000,alpha=0.8,threshold=0.8,intermediate_only=True)\n",
    "\n",
    "\n"
   ]
  },
  {
   "cell_type": "code",
   "execution_count": 7,
   "id": "described-basis",
   "metadata": {},
   "outputs": [
    {
     "data": {
      "text/plain": [
       "1547"
      ]
     },
     "execution_count": 7,
     "metadata": {},
     "output_type": "execute_result"
    }
   ],
   "source": [
    "returned_nx.number_of_edges()"
   ]
  },
  {
   "cell_type": "code",
   "execution_count": 8,
   "id": "right-hollow",
   "metadata": {},
   "outputs": [
    {
     "name": "stdout",
     "output_type": "stream",
     "text": [
      "we excluded 453 interactions from inferred network since paths between any pair of initial nodes do not include these interactions.\n"
     ]
    }
   ],
   "source": [
    "\n",
    "\n",
    "\n",
    "print(f'we excluded {2000-returned_nx.number_of_edges()} interactions from inferred network since paths between any pair of initial nodes do not include these interactions.') #"
   ]
  },
  {
   "cell_type": "code",
   "execution_count": 9,
   "id": "covered-agency",
   "metadata": {},
   "outputs": [],
   "source": [
    "returned_df=nx.to_pandas_edgelist(returned_nx)\n",
    "returned_df.to_csv('../AndrogenReceptor_reconstructed_pathway_without_GGN.sif')"
   ]
  },
  {
   "cell_type": "code",
   "execution_count": null,
   "id": "parental-phrase",
   "metadata": {},
   "outputs": [],
   "source": []
  },
  {
   "cell_type": "markdown",
   "id": "theoretical-juvenile",
   "metadata": {},
   "source": [
    "Network inference with GraphletGudidedNetwork"
   ]
  },
  {
   "cell_type": "code",
   "execution_count": null,
   "id": "therapeutic-promise",
   "metadata": {},
   "outputs": [],
   "source": []
  },
  {
   "cell_type": "markdown",
   "id": "defined-bishop",
   "metadata": {},
   "source": [
    "### Graphlet-Guided Network"
   ]
  },
  {
   "cell_type": "code",
   "execution_count": 10,
   "id": "wanted-friend",
   "metadata": {},
   "outputs": [],
   "source": [
    "GGN_df=pd.read_csv(f'../AndrogenReceptor_GGN.sif',sep=\"\\t\")\n",
    "GGN_nx=nx.from_pandas_edgelist(GGN_df)"
   ]
  },
  {
   "cell_type": "code",
   "execution_count": 11,
   "id": "introductory-bonus",
   "metadata": {},
   "outputs": [],
   "source": [
    "pgrf=NetworkInference(network=HIPPIE_nx,guide_network=GGN_nx,edge_attribute=\"Score\")\n",
    "pgrf.load_initial_nodes(list(initial_nodes))\n"
   ]
  },
  {
   "cell_type": "code",
   "execution_count": 12,
   "id": "equivalent-shoulder",
   "metadata": {},
   "outputs": [
    {
     "name": "stdout",
     "output_type": "stream",
     "text": [
      "theshold of 0.548000 limits predictions to 2000 edges\n"
     ]
    }
   ],
   "source": [
    "returned_nx=pgrf.reconstruct_subnetwork( max_edge_count=2000,alpha=0.8,threshold=0.8,intermediate_only=True)"
   ]
  },
  {
   "cell_type": "code",
   "execution_count": 13,
   "id": "familiar-chart",
   "metadata": {},
   "outputs": [
    {
     "name": "stdout",
     "output_type": "stream",
     "text": [
      "we excluded 288 interactions from inferred network since paths between any pair of initial nodes do not include these interactions.\n"
     ]
    }
   ],
   "source": [
    "\n",
    "print(f'we excluded {2000-returned_nx.number_of_edges()} interactions from inferred network since paths between any pair of initial nodes do not include these interactions.') #"
   ]
  },
  {
   "cell_type": "code",
   "execution_count": null,
   "id": "collaborative-universe",
   "metadata": {},
   "outputs": [],
   "source": []
  },
  {
   "cell_type": "code",
   "execution_count": 14,
   "id": "norwegian-ladder",
   "metadata": {},
   "outputs": [],
   "source": [
    "returned_df=nx.to_pandas_edgelist(returned_nx)\n",
    "returned_df.to_csv('../AndrogenReceptor_reconstructed_pathway_with_GGN.sif')"
   ]
  },
  {
   "cell_type": "code",
   "execution_count": null,
   "id": "powered-focus",
   "metadata": {},
   "outputs": [],
   "source": []
  },
  {
   "cell_type": "code",
   "execution_count": null,
   "id": "applicable-prevention",
   "metadata": {},
   "outputs": [],
   "source": []
  },
  {
   "cell_type": "markdown",
   "id": "contrary-control",
   "metadata": {},
   "source": [
    "## Benefical outputs"
   ]
  },
  {
   "cell_type": "markdown",
   "id": "sound-clearing",
   "metadata": {},
   "source": [
    "#### PageRank scores"
   ]
  },
  {
   "cell_type": "code",
   "execution_count": 15,
   "id": "beautiful-clinton",
   "metadata": {},
   "outputs": [],
   "source": [
    "PageRank_Scores_for_allnodes_in_ref=pgrf.pagerank_score"
   ]
  },
  {
   "cell_type": "code",
   "execution_count": null,
   "id": "detected-theta",
   "metadata": {},
   "outputs": [],
   "source": []
  },
  {
   "cell_type": "markdown",
   "id": "manual-eagle",
   "metadata": {},
   "source": [
    "##### scored reference intractome"
   ]
  },
  {
   "cell_type": "code",
   "execution_count": 17,
   "id": "beginning-balance",
   "metadata": {},
   "outputs": [
    {
     "data": {
      "text/html": [
       "<div>\n",
       "<style scoped>\n",
       "    .dataframe tbody tr th:only-of-type {\n",
       "        vertical-align: middle;\n",
       "    }\n",
       "\n",
       "    .dataframe tbody tr th {\n",
       "        vertical-align: top;\n",
       "    }\n",
       "\n",
       "    .dataframe thead th {\n",
       "        text-align: right;\n",
       "    }\n",
       "</style>\n",
       "<table border=\"1\" class=\"dataframe\">\n",
       "  <thead>\n",
       "    <tr style=\"text-align: right;\">\n",
       "      <th></th>\n",
       "      <th>source</th>\n",
       "      <th>target</th>\n",
       "      <th>Score</th>\n",
       "      <th>neglog_flux</th>\n",
       "      <th>flux</th>\n",
       "    </tr>\n",
       "  </thead>\n",
       "  <tbody>\n",
       "    <tr>\n",
       "      <th>0</th>\n",
       "      <td>ALDH1A1</td>\n",
       "      <td>NUPR1</td>\n",
       "      <td>0.63</td>\n",
       "      <td>7.604111</td>\n",
       "      <td>2.488223e-08</td>\n",
       "    </tr>\n",
       "    <tr>\n",
       "      <th>1</th>\n",
       "      <td>ALDH1A1</td>\n",
       "      <td>ALDH2</td>\n",
       "      <td>0.63</td>\n",
       "      <td>6.869425</td>\n",
       "      <td>1.350750e-07</td>\n",
       "    </tr>\n",
       "    <tr>\n",
       "      <th>2</th>\n",
       "      <td>ALDH1A1</td>\n",
       "      <td>POT1</td>\n",
       "      <td>0.63</td>\n",
       "      <td>7.117359</td>\n",
       "      <td>7.632039e-08</td>\n",
       "    </tr>\n",
       "    <tr>\n",
       "      <th>3</th>\n",
       "      <td>ALDH1A1</td>\n",
       "      <td>NOS2</td>\n",
       "      <td>0.63</td>\n",
       "      <td>7.002051</td>\n",
       "      <td>9.952893e-08</td>\n",
       "    </tr>\n",
       "    <tr>\n",
       "      <th>4</th>\n",
       "      <td>ALDH1A1</td>\n",
       "      <td>NEDD8</td>\n",
       "      <td>0.63</td>\n",
       "      <td>7.690741</td>\n",
       "      <td>2.038257e-08</td>\n",
       "    </tr>\n",
       "    <tr>\n",
       "      <th>...</th>\n",
       "      <td>...</td>\n",
       "      <td>...</td>\n",
       "      <td>...</td>\n",
       "      <td>...</td>\n",
       "      <td>...</td>\n",
       "    </tr>\n",
       "    <tr>\n",
       "      <th>774443</th>\n",
       "      <td>VNN1</td>\n",
       "      <td>VNN3</td>\n",
       "      <td>0.63</td>\n",
       "      <td>6.639485</td>\n",
       "      <td>2.293583e-07</td>\n",
       "    </tr>\n",
       "    <tr>\n",
       "      <th>774444</th>\n",
       "      <td>KLK14</td>\n",
       "      <td>OR13C3</td>\n",
       "      <td>0.63</td>\n",
       "      <td>7.569017</td>\n",
       "      <td>2.697634e-08</td>\n",
       "    </tr>\n",
       "    <tr>\n",
       "      <th>774445</th>\n",
       "      <td>SPDYE7P</td>\n",
       "      <td>SPDYE3</td>\n",
       "      <td>0.63</td>\n",
       "      <td>6.337234</td>\n",
       "      <td>4.600089e-07</td>\n",
       "    </tr>\n",
       "    <tr>\n",
       "      <th>774446</th>\n",
       "      <td>GADL1</td>\n",
       "      <td>OR10A4</td>\n",
       "      <td>0.63</td>\n",
       "      <td>6.693221</td>\n",
       "      <td>2.026649e-07</td>\n",
       "    </tr>\n",
       "    <tr>\n",
       "      <th>774447</th>\n",
       "      <td>TSPY3</td>\n",
       "      <td>TSPY8</td>\n",
       "      <td>0.63</td>\n",
       "      <td>6.598260</td>\n",
       "      <td>2.521968e-07</td>\n",
       "    </tr>\n",
       "  </tbody>\n",
       "</table>\n",
       "<p>774448 rows × 5 columns</p>\n",
       "</div>"
      ],
      "text/plain": [
       "         source  target  Score  neglog_flux          flux\n",
       "0       ALDH1A1   NUPR1   0.63     7.604111  2.488223e-08\n",
       "1       ALDH1A1   ALDH2   0.63     6.869425  1.350750e-07\n",
       "2       ALDH1A1    POT1   0.63     7.117359  7.632039e-08\n",
       "3       ALDH1A1    NOS2   0.63     7.002051  9.952893e-08\n",
       "4       ALDH1A1   NEDD8   0.63     7.690741  2.038257e-08\n",
       "...         ...     ...    ...          ...           ...\n",
       "774443     VNN1    VNN3   0.63     6.639485  2.293583e-07\n",
       "774444    KLK14  OR13C3   0.63     7.569017  2.697634e-08\n",
       "774445  SPDYE7P  SPDYE3   0.63     6.337234  4.600089e-07\n",
       "774446    GADL1  OR10A4   0.63     6.693221  2.026649e-07\n",
       "774447    TSPY3   TSPY8   0.63     6.598260  2.521968e-07\n",
       "\n",
       "[774448 rows x 5 columns]"
      ]
     },
     "execution_count": 17,
     "metadata": {},
     "output_type": "execute_result"
    }
   ],
   "source": [
    "Overall_network_values_df=nx.to_pandas_edgelist(pgrf.network)\n",
    "Overall_network_values_df"
   ]
  },
  {
   "cell_type": "markdown",
   "id": "helpful-voluntary",
   "metadata": {},
   "source": [
    "##### scored GGN"
   ]
  },
  {
   "cell_type": "code",
   "execution_count": 18,
   "id": "satisfactory-booth",
   "metadata": {
    "scrolled": true
   },
   "outputs": [
    {
     "data": {
      "text/html": [
       "<div>\n",
       "<style scoped>\n",
       "    .dataframe tbody tr th:only-of-type {\n",
       "        vertical-align: middle;\n",
       "    }\n",
       "\n",
       "    .dataframe tbody tr th {\n",
       "        vertical-align: top;\n",
       "    }\n",
       "\n",
       "    .dataframe thead th {\n",
       "        text-align: right;\n",
       "    }\n",
       "</style>\n",
       "<table border=\"1\" class=\"dataframe\">\n",
       "  <thead>\n",
       "    <tr style=\"text-align: right;\">\n",
       "      <th></th>\n",
       "      <th>source</th>\n",
       "      <th>target</th>\n",
       "      <th>neglog_flux</th>\n",
       "      <th>flux</th>\n",
       "    </tr>\n",
       "  </thead>\n",
       "  <tbody>\n",
       "    <tr>\n",
       "      <th>0</th>\n",
       "      <td>PRMT2</td>\n",
       "      <td>PRDM11</td>\n",
       "      <td>5.282746</td>\n",
       "      <td>5.215000e-06</td>\n",
       "    </tr>\n",
       "    <tr>\n",
       "      <th>1</th>\n",
       "      <td>PRMT2</td>\n",
       "      <td>GTF2H3</td>\n",
       "      <td>4.377999</td>\n",
       "      <td>4.187948e-05</td>\n",
       "    </tr>\n",
       "    <tr>\n",
       "      <th>2</th>\n",
       "      <td>PRMT2</td>\n",
       "      <td>GTF2H2C</td>\n",
       "      <td>5.206151</td>\n",
       "      <td>6.220846e-06</td>\n",
       "    </tr>\n",
       "    <tr>\n",
       "      <th>3</th>\n",
       "      <td>PRMT2</td>\n",
       "      <td>CHCHD2P9</td>\n",
       "      <td>5.682046</td>\n",
       "      <td>2.079475e-06</td>\n",
       "    </tr>\n",
       "    <tr>\n",
       "      <th>4</th>\n",
       "      <td>PRMT2</td>\n",
       "      <td>GTF2F1</td>\n",
       "      <td>5.854065</td>\n",
       "      <td>1.399376e-06</td>\n",
       "    </tr>\n",
       "    <tr>\n",
       "      <th>...</th>\n",
       "      <td>...</td>\n",
       "      <td>...</td>\n",
       "      <td>...</td>\n",
       "      <td>...</td>\n",
       "    </tr>\n",
       "    <tr>\n",
       "      <th>21884</th>\n",
       "      <td>TCF4</td>\n",
       "      <td>RAB41</td>\n",
       "      <td>6.003631</td>\n",
       "      <td>9.916735e-07</td>\n",
       "    </tr>\n",
       "    <tr>\n",
       "      <th>21885</th>\n",
       "      <td>TCF4</td>\n",
       "      <td>NECTIN2</td>\n",
       "      <td>6.596765</td>\n",
       "      <td>2.530666e-07</td>\n",
       "    </tr>\n",
       "    <tr>\n",
       "      <th>21886</th>\n",
       "      <td>TCF4</td>\n",
       "      <td>SPG21</td>\n",
       "      <td>6.781936</td>\n",
       "      <td>1.652206e-07</td>\n",
       "    </tr>\n",
       "    <tr>\n",
       "      <th>21887</th>\n",
       "      <td>TCF4</td>\n",
       "      <td>ID4</td>\n",
       "      <td>6.034959</td>\n",
       "      <td>9.226593e-07</td>\n",
       "    </tr>\n",
       "    <tr>\n",
       "      <th>21888</th>\n",
       "      <td>TCF4</td>\n",
       "      <td>RABIF</td>\n",
       "      <td>7.193112</td>\n",
       "      <td>6.410439e-08</td>\n",
       "    </tr>\n",
       "  </tbody>\n",
       "</table>\n",
       "<p>21889 rows × 4 columns</p>\n",
       "</div>"
      ],
      "text/plain": [
       "      source    target  neglog_flux          flux\n",
       "0      PRMT2    PRDM11     5.282746  5.215000e-06\n",
       "1      PRMT2    GTF2H3     4.377999  4.187948e-05\n",
       "2      PRMT2   GTF2H2C     5.206151  6.220846e-06\n",
       "3      PRMT2  CHCHD2P9     5.682046  2.079475e-06\n",
       "4      PRMT2    GTF2F1     5.854065  1.399376e-06\n",
       "...      ...       ...          ...           ...\n",
       "21884   TCF4     RAB41     6.003631  9.916735e-07\n",
       "21885   TCF4   NECTIN2     6.596765  2.530666e-07\n",
       "21886   TCF4     SPG21     6.781936  1.652206e-07\n",
       "21887   TCF4       ID4     6.034959  9.226593e-07\n",
       "21888   TCF4     RABIF     7.193112  6.410439e-08\n",
       "\n",
       "[21889 rows x 4 columns]"
      ]
     },
     "execution_count": 18,
     "metadata": {},
     "output_type": "execute_result"
    }
   ],
   "source": [
    "Motif_network_values_df=nx.to_pandas_edgelist(pgrf.motif_nx)\n",
    "Motif_network_values_df"
   ]
  },
  {
   "cell_type": "code",
   "execution_count": null,
   "id": "sweet-console",
   "metadata": {},
   "outputs": [],
   "source": []
  },
  {
   "cell_type": "code",
   "execution_count": null,
   "id": "neural-shannon",
   "metadata": {},
   "outputs": [],
   "source": []
  }
 ],
 "metadata": {
  "kernelspec": {
   "display_name": "Python 3",
   "language": "python",
   "name": "python3"
  },
  "language_info": {
   "codemirror_mode": {
    "name": "ipython",
    "version": 3
   },
   "file_extension": ".py",
   "mimetype": "text/x-python",
   "name": "python",
   "nbconvert_exporter": "python",
   "pygments_lexer": "ipython3",
   "version": "3.6.12"
  }
 },
 "nbformat": 4,
 "nbformat_minor": 5
}
