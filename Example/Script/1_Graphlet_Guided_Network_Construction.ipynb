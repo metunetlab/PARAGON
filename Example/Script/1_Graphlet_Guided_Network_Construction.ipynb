{
 "cells": [
  {
   "cell_type": "code",
   "execution_count": 1,
   "id": "unlike-nothing",
   "metadata": {},
   "outputs": [],
   "source": [
    "import pandas as pd, networkx as nx"
   ]
  },
  {
   "cell_type": "code",
   "execution_count": 2,
   "id": "competent-origin",
   "metadata": {},
   "outputs": [
    {
     "name": "stdout",
     "output_type": "stream",
     "text": [
      "The number of interaction in HIPPIE 783182\n",
      "The number of edges in HIPPIE network 774448\n",
      "The number of nodes in HIPPIE network 19437\n"
     ]
    }
   ],
   "source": [
    "## Reference network preparation \n",
    "\n",
    "HIPPIE_df=pd.read_csv(\"../Source/Interactomes/HIPPIE_v2_3.tab\", keep_default_na=False, sep=\"\\t\")\n",
    "print(\"The number of interaction in HIPPIE\",len(HIPPIE_df.index))\n",
    "HIPPIE_nx=nx.from_pandas_edgelist(HIPPIE_df,\"Gene_1\",\"Gene_2\",edge_attr=\"Score\")\n",
    "self_interactions=list(nx.selfloop_edges(HIPPIE_nx))\n",
    "\n",
    "# during permutation, we have to get rif off self interactions and nan-nan interaction, coming from reference network as a default.\n",
    "for u, v in self_interactions:\n",
    "    if isinstance(u, float):\n",
    "        print(u)\n",
    "    else:\n",
    "        HIPPIE_nx.remove_edge(u,v)\n",
    "    \n",
    "#HIPPIE_nx.remove_edges_from(self_interactions)\n",
    "HIPPIE_df=nx.to_pandas_edgelist(HIPPIE_nx)\n",
    "print(\"The number of edges in HIPPIE network\",HIPPIE_nx.number_of_edges())\n",
    "print(\"The number of nodes in HIPPIE network\",HIPPIE_nx.number_of_nodes())\n",
    "\n",
    "\n",
    "edges=tuple(zip(HIPPIE_df.source,HIPPIE_df.target))\n",
    "for edge in edges:\n",
    "    if edge not in HIPPIE_nx.edges:\n",
    "        print(\"check the edge\",edge)"
   ]
  },
  {
   "cell_type": "code",
   "execution_count": 3,
   "id": "defined-modeling",
   "metadata": {},
   "outputs": [],
   "source": [
    "## initial nodes and weights \n",
    "\n",
    "initial_nodes_df=pd.read_csv(f'../Source/Netpath/Sampling_0_5/AndrogenReceptor_05A/AndrogenReceptor_05A_var_0.nodes',sep=\"\\t\")\n",
    "\n",
    "initial_nodes=initial_nodes_df.name.to_list()\n",
    "initial_weights=[1 for _ in initial_nodes]"
   ]
  },
  {
   "cell_type": "code",
   "execution_count": 4,
   "id": "raised-diagnosis",
   "metadata": {},
   "outputs": [],
   "source": [
    "from Paragon import GraphletFrequency "
   ]
  },
  {
   "cell_type": "markdown",
   "id": "romance-explorer",
   "metadata": {},
   "source": [
    "## network permutation"
   ]
  },
  {
   "cell_type": "code",
   "execution_count": 6,
   "id": "random-calculator",
   "metadata": {},
   "outputs": [
    {
     "data": {
      "text/plain": [
       "'../Source/Interactomes/Permuted/HIPPIE_permuted/HIPPIE_perm_network'"
      ]
     },
     "execution_count": 6,
     "metadata": {},
     "output_type": "execute_result"
    }
   ],
   "source": [
    "\n",
    "GRF=GraphletFrequency(HIPPIE_nx,initial_nodes)\n",
    "\n",
    "## network permutation once\n",
    "Permutated_nx=GRF.permutate_network()\n",
    "Permutated_df=nx.to_pandas_edgelist(Permutated_nx)\n",
    "Permutated_df\n",
    "GRF.save_permuted_network(f'../Source/Interactomes/Permuted/HIPPIE_permuted/HIPPIE_perm_network')"
   ]
  },
  {
   "cell_type": "code",
   "execution_count": 6,
   "id": "institutional-algebra",
   "metadata": {},
   "outputs": [
    {
     "name": "stdout",
     "output_type": "stream",
     "text": [
      "permuted network saved in\t ../Source/Interactomes/Permuted/HIPPIE_permuted/HIPPIE_prm_1\n",
      "permuted network saved in\t ../Source/Interactomes/Permuted/HIPPIE_permuted/HIPPIE_prm_2\n"
     ]
    },
    {
     "data": {
      "text/plain": [
       "1"
      ]
     },
     "execution_count": 6,
     "metadata": {},
     "output_type": "execute_result"
    }
   ],
   "source": [
    "## Permutation of reference network multiple times (n permuted network)\n",
    "\n",
    "GRF.save_permuted_networks(f_name=f'../Source/Interactomes/Permuted/HIPPIE_permuted/HIPPIE_prm',\n",
    "                          size=50)"
   ]
  },
  {
   "cell_type": "markdown",
   "id": "middle-monster",
   "metadata": {},
   "source": [
    "# Graphlet Frequencies & Graphlet Gudided Network Construction\n",
    "\n",
    "\n",
    "we keep the statistical information of graphlets such as their interactions, frequencies etc\n"
   ]
  },
  {
   "cell_type": "code",
   "execution_count": 7,
   "id": "adapted-arrival",
   "metadata": {},
   "outputs": [],
   "source": [
    "### Graphlet Frequencies\n",
    "\n",
    "## frequencies from reference network\n",
    "\n",
    "GRF=GraphletFrequency(HIPPIE_nx,initial_nodes)\n",
    "Own_freq=pd.DataFrame([GRF.get_Graphlet_Frequency()])## GRF.get_Graphlet_Frequency() gives the frequencies in dict\n",
    "\n",
    "### frequencies from permutated network \n",
    "\n",
    "Random_frequencies=GRF.get_frequencies_from_pool(\"../Source/Interactomes/Permuted/HIPPIE_permuted/\")\n",
    "Random_frequencies\n",
    "\n",
    "\n",
    "# Frequency calculations from permuted network might take long time depending on the network size. You can load the already calculated frequecies from pickle file \n",
    "#GRF.get_frequencies_from_pickle(\"../AndrogenReceptor_Pool_Frequencies.pickle\")\n",
    "\n"
   ]
  },
  {
   "cell_type": "code",
   "execution_count": 8,
   "id": "minor-editing",
   "metadata": {},
   "outputs": [
    {
     "data": {
      "text/plain": [
       "{'Graphlets0': 0.000293848607814437,\n",
       " 'Graphlets1': 0.03475779614926956,\n",
       " 'Graphlets2': 0.01748433786920349,\n",
       " 'Graphlets3': 0.523912016886961,\n",
       " 'Graphlets4': 0.1580608204391412,\n",
       " 'Graphlets5': 0.09767251160356297,\n",
       " 'Graphlets6': 0.11204896831482318,\n",
       " 'Graphlets7': 0.04366452030424739,\n",
       " 'Graphlets8': 0.012105179824976855}"
      ]
     },
     "execution_count": 8,
     "metadata": {},
     "output_type": "execute_result"
    }
   ],
   "source": [
    "GRF.get_Graphlet_Frequency()"
   ]
  },
  {
   "cell_type": "code",
   "execution_count": 9,
   "id": "protected-rescue",
   "metadata": {},
   "outputs": [],
   "source": [
    "GRF.get_frequencies_from_pickle(\"../AndrogenReceptor_Pool_Frequencies.pickle\")"
   ]
  },
  {
   "cell_type": "code",
   "execution_count": null,
   "id": "sticky-weight",
   "metadata": {},
   "outputs": [],
   "source": []
  },
  {
   "cell_type": "markdown",
   "id": "painful-cornwall",
   "metadata": {},
   "source": [
    "### Motif Selection\n",
    "\n",
    "We compare the frequencies of graphlets in reference network and its permutation"
   ]
  },
  {
   "cell_type": "code",
   "execution_count": 10,
   "id": "powered-improvement",
   "metadata": {
    "scrolled": true
   },
   "outputs": [
    {
     "data": {
      "text/plain": [
       "{'Graphlets0': (2.2971117959096, 0.010806196517093263),\n",
       " 'Graphlets1': (-7.810968456188324, 2.837510903742159e-15),\n",
       " 'Graphlets2': (5.858567400218211, 2.3343856337135186e-09),\n",
       " 'Graphlets3': (-5.455123059080934, 2.446947069483062e-08),\n",
       " 'Graphlets4': (-2.881547126491014, 0.001978640260971553),\n",
       " 'Graphlets5': (9.539286646820543, 7.190907625198327e-22),\n",
       " 'Graphlets6': (8.796022947139594, 7.087530797048371e-19),\n",
       " 'Graphlets7': (15.475032792624292, 2.557360143000735e-54),\n",
       " 'Graphlets8': (14.396978660825622, 2.702770841724582e-47)}"
      ]
     },
     "execution_count": 10,
     "metadata": {},
     "output_type": "execute_result"
    }
   ],
   "source": [
    "GRF.get_Z_score()"
   ]
  },
  {
   "cell_type": "markdown",
   "id": "curious-arrangement",
   "metadata": {},
   "source": [
    "#### Select frequent graphlets: Motifs"
   ]
  },
  {
   "cell_type": "code",
   "execution_count": 11,
   "id": "athletic-nigeria",
   "metadata": {},
   "outputs": [],
   "source": [
    "Selected_Graphlets=GRF.select_significant_Graphlets()"
   ]
  },
  {
   "cell_type": "code",
   "execution_count": 12,
   "id": "inner-kuwait",
   "metadata": {
    "scrolled": true
   },
   "outputs": [
    {
     "data": {
      "text/plain": [
       "dict_keys(['Graphlets2', 'Graphlets5', 'Graphlets6', 'Graphlets7', 'Graphlets8'])"
      ]
     },
     "execution_count": 12,
     "metadata": {},
     "output_type": "execute_result"
    }
   ],
   "source": [
    "Selected_Graphlets.keys() # selected significant graphlets"
   ]
  },
  {
   "cell_type": "markdown",
   "id": "quality-water",
   "metadata": {},
   "source": [
    "One by one, wee can list graphlets where  keys are composed of the node list and value is of the edge list."
   ]
  },
  {
   "cell_type": "code",
   "execution_count": 16,
   "id": "vocational-produce",
   "metadata": {},
   "outputs": [],
   "source": [
    "selected_G2_dict=Selected_Graphlets['Graphlets2']"
   ]
  },
  {
   "cell_type": "code",
   "execution_count": null,
   "id": "aquatic-assignment",
   "metadata": {},
   "outputs": [],
   "source": []
  },
  {
   "cell_type": "code",
   "execution_count": null,
   "id": "compressed-small",
   "metadata": {},
   "outputs": [],
   "source": []
  },
  {
   "cell_type": "markdown",
   "id": "thousand-territory",
   "metadata": {},
   "source": [
    "Greaphlet-Guided Network is composed of freqeuntly seen graphlets, motifs. Here, we can list edges in GGN. "
   ]
  },
  {
   "cell_type": "code",
   "execution_count": 17,
   "id": "seventh-birth",
   "metadata": {
    "scrolled": true
   },
   "outputs": [],
   "source": [
    "GGN_edgelist=GRF.get_selected_edge_list()"
   ]
  },
  {
   "cell_type": "code",
   "execution_count": null,
   "id": "seven-twelve",
   "metadata": {},
   "outputs": [],
   "source": []
  },
  {
   "cell_type": "markdown",
   "id": "international-monitor",
   "metadata": {},
   "source": [
    "write GGN into sif file"
   ]
  },
  {
   "cell_type": "code",
   "execution_count": 18,
   "id": "static-authorization",
   "metadata": {},
   "outputs": [
    {
     "data": {
      "text/plain": [
       "True"
      ]
     },
     "execution_count": 18,
     "metadata": {},
     "output_type": "execute_result"
    }
   ],
   "source": [
    "GRF.write_guided_graphlet_network(\"../AndrogenReceptor_GGN\")"
   ]
  },
  {
   "cell_type": "code",
   "execution_count": null,
   "id": "pleasant-input",
   "metadata": {},
   "outputs": [],
   "source": []
  },
  {
   "cell_type": "markdown",
   "id": "variable-momentum",
   "metadata": {},
   "source": [
    "The calculation of graphlet frequencies may take long time. Thus, we can save frequencies or we can calculate in an exemplified pool.  In the downstream part, we can manually decide required graphlets.\n"
   ]
  },
  {
   "cell_type": "code",
   "execution_count": 19,
   "id": "indonesian-release",
   "metadata": {},
   "outputs": [],
   "source": [
    "GRF.save_frequencies_into_pickle(\"../AndrogenReceptor_Pool_Frequencies\")"
   ]
  },
  {
   "cell_type": "code",
   "execution_count": 20,
   "id": "chicken-completion",
   "metadata": {},
   "outputs": [],
   "source": [
    "GRF.get_frequencies_from_pickle(\"../AndrogenReceptor_Pool_Frequencies.pickle\")"
   ]
  },
  {
   "cell_type": "code",
   "execution_count": 21,
   "id": "single-reference",
   "metadata": {},
   "outputs": [
    {
     "data": {
      "text/plain": [
       "{'Graphlets0': 0.000293848607814437,\n",
       " 'Graphlets1': 0.03475779614926956,\n",
       " 'Graphlets2': 0.01748433786920349,\n",
       " 'Graphlets3': 0.523912016886961,\n",
       " 'Graphlets4': 0.1580608204391412,\n",
       " 'Graphlets5': 0.09767251160356297,\n",
       " 'Graphlets6': 0.11204896831482318,\n",
       " 'Graphlets7': 0.04366452030424739,\n",
       " 'Graphlets8': 0.012105179824976855}"
      ]
     },
     "execution_count": 21,
     "metadata": {},
     "output_type": "execute_result"
    }
   ],
   "source": [
    "GRF.get_Graphlet_Frequency()"
   ]
  },
  {
   "cell_type": "code",
   "execution_count": null,
   "id": "pediatric-passage",
   "metadata": {},
   "outputs": [],
   "source": []
  },
  {
   "cell_type": "code",
   "execution_count": 22,
   "id": "therapeutic-upset",
   "metadata": {},
   "outputs": [
    {
     "data": {
      "text/plain": [
       "{'Graphlets0': 0.000293848607814437,\n",
       " 'Graphlets1': 0.03475779614926956,\n",
       " 'Graphlets2': 0.01748433786920349,\n",
       " 'Graphlets3': 0.523912016886961,\n",
       " 'Graphlets4': 0.1580608204391412,\n",
       " 'Graphlets5': 0.09767251160356297,\n",
       " 'Graphlets6': 0.11204896831482318,\n",
       " 'Graphlets7': 0.04366452030424739,\n",
       " 'Graphlets8': 0.012105179824976855}"
      ]
     },
     "execution_count": 22,
     "metadata": {},
     "output_type": "execute_result"
    }
   ],
   "source": [
    "GRF.get_Graphlet_Frequency()"
   ]
  },
  {
   "cell_type": "code",
   "execution_count": 23,
   "id": "incident-minneapolis",
   "metadata": {},
   "outputs": [
    {
     "data": {
      "text/plain": [
       "['Graphlets2', 'Graphlets5', 'Graphlets6', 'Graphlets7', 'Graphlets8']"
      ]
     },
     "execution_count": 23,
     "metadata": {},
     "output_type": "execute_result"
    }
   ],
   "source": [
    "Graphlet_list=list(Selected_Graphlets.keys())\n",
    "Graphlet_list"
   ]
  },
  {
   "cell_type": "code",
   "execution_count": null,
   "id": "adjustable-armenia",
   "metadata": {},
   "outputs": [],
   "source": []
  },
  {
   "cell_type": "markdown",
   "id": "charitable-diagram",
   "metadata": {},
   "source": [
    "#### GGN construction with known graphlet-motifs\n",
    "\n",
    "\n",
    "\n"
   ]
  },
  {
   "cell_type": "code",
   "execution_count": 5,
   "id": "crazy-quantum",
   "metadata": {},
   "outputs": [],
   "source": [
    "from Paragon import GraphletGuidance"
   ]
  },
  {
   "cell_type": "code",
   "execution_count": 6,
   "id": "entertaining-aspect",
   "metadata": {},
   "outputs": [],
   "source": [
    "Graphlet_list=['Graphlets2', 'Graphlets5', 'Graphlets6', 'Graphlets7', 'Graphlets8']"
   ]
  },
  {
   "cell_type": "code",
   "execution_count": 7,
   "id": "broadband-wiring",
   "metadata": {},
   "outputs": [],
   "source": [
    "GRF_lite=GraphletGuidance(HIPPIE_nx)"
   ]
  },
  {
   "cell_type": "code",
   "execution_count": 8,
   "id": "latter-bedroom",
   "metadata": {},
   "outputs": [
    {
     "name": "stdout",
     "output_type": "stream",
     "text": [
      "82 of 82 input nodes have been found in the given network\n",
      "\n"
     ]
    }
   ],
   "source": [
    "\n",
    "GGN_nx=GRF_lite.construct_GGN(initial_nodes,Graphlets=Graphlet_list,extention=False) # extension: True --> add existing interaction of hidden nodes in reference network \n",
    "## GGN_nx, Graph item in networkx\n"
   ]
  },
  {
   "cell_type": "code",
   "execution_count": 9,
   "id": "gentle-makeup",
   "metadata": {},
   "outputs": [
    {
     "data": {
      "text/plain": [
       "4685"
      ]
     },
     "execution_count": 9,
     "metadata": {},
     "output_type": "execute_result"
    }
   ],
   "source": [
    "GGN_nx.number_of_nodes()"
   ]
  },
  {
   "cell_type": "code",
   "execution_count": 10,
   "id": "arbitrary-pointer",
   "metadata": {},
   "outputs": [
    {
     "data": {
      "text/html": [
       "<div>\n",
       "<style scoped>\n",
       "    .dataframe tbody tr th:only-of-type {\n",
       "        vertical-align: middle;\n",
       "    }\n",
       "\n",
       "    .dataframe tbody tr th {\n",
       "        vertical-align: top;\n",
       "    }\n",
       "\n",
       "    .dataframe thead th {\n",
       "        text-align: right;\n",
       "    }\n",
       "</style>\n",
       "<table border=\"1\" class=\"dataframe\">\n",
       "  <thead>\n",
       "    <tr style=\"text-align: right;\">\n",
       "      <th></th>\n",
       "      <th>source</th>\n",
       "      <th>target</th>\n",
       "    </tr>\n",
       "  </thead>\n",
       "  <tbody>\n",
       "    <tr>\n",
       "      <th>0</th>\n",
       "      <td>DDX5</td>\n",
       "      <td></td>\n",
       "    </tr>\n",
       "    <tr>\n",
       "      <th>1</th>\n",
       "      <td>DDX5</td>\n",
       "      <td>BRCA1</td>\n",
       "    </tr>\n",
       "    <tr>\n",
       "      <th>2</th>\n",
       "      <td>DDX5</td>\n",
       "      <td>SUMO3</td>\n",
       "    </tr>\n",
       "    <tr>\n",
       "      <th>3</th>\n",
       "      <td>DDX5</td>\n",
       "      <td>SMARCA4</td>\n",
       "    </tr>\n",
       "    <tr>\n",
       "      <th>4</th>\n",
       "      <td>DDX5</td>\n",
       "      <td>CREBBP</td>\n",
       "    </tr>\n",
       "    <tr>\n",
       "      <th>...</th>\n",
       "      <td>...</td>\n",
       "      <td>...</td>\n",
       "    </tr>\n",
       "    <tr>\n",
       "      <th>21901</th>\n",
       "      <td>UXT</td>\n",
       "      <td>POLR1B</td>\n",
       "    </tr>\n",
       "    <tr>\n",
       "      <th>21902</th>\n",
       "      <td>UXT</td>\n",
       "      <td>ASB7</td>\n",
       "    </tr>\n",
       "    <tr>\n",
       "      <th>21903</th>\n",
       "      <td>UXT</td>\n",
       "      <td>TBC1D32</td>\n",
       "    </tr>\n",
       "    <tr>\n",
       "      <th>21904</th>\n",
       "      <td>UXT</td>\n",
       "      <td>POLR3A</td>\n",
       "    </tr>\n",
       "    <tr>\n",
       "      <th>21905</th>\n",
       "      <td>UXT</td>\n",
       "      <td>RFPL2</td>\n",
       "    </tr>\n",
       "  </tbody>\n",
       "</table>\n",
       "<p>21906 rows × 2 columns</p>\n",
       "</div>"
      ],
      "text/plain": [
       "      source   target\n",
       "0       DDX5         \n",
       "1       DDX5    BRCA1\n",
       "2       DDX5    SUMO3\n",
       "3       DDX5  SMARCA4\n",
       "4       DDX5   CREBBP\n",
       "...      ...      ...\n",
       "21901    UXT   POLR1B\n",
       "21902    UXT     ASB7\n",
       "21903    UXT  TBC1D32\n",
       "21904    UXT   POLR3A\n",
       "21905    UXT    RFPL2\n",
       "\n",
       "[21906 rows x 2 columns]"
      ]
     },
     "execution_count": 10,
     "metadata": {},
     "output_type": "execute_result"
    }
   ],
   "source": [
    "GGN_df=nx.to_pandas_edgelist(GGN_nx)\n",
    "GGN_df"
   ]
  },
  {
   "cell_type": "code",
   "execution_count": 11,
   "id": "resident-australia",
   "metadata": {
    "scrolled": true
   },
   "outputs": [
    {
     "data": {
      "text/plain": [
       "82"
      ]
     },
     "execution_count": 11,
     "metadata": {},
     "output_type": "execute_result"
    }
   ],
   "source": [
    "len(initial_nodes)"
   ]
  },
  {
   "cell_type": "code",
   "execution_count": 12,
   "id": "raising-luxury",
   "metadata": {},
   "outputs": [
    {
     "data": {
      "text/plain": [
       "True"
      ]
     },
     "execution_count": 12,
     "metadata": {},
     "output_type": "execute_result"
    }
   ],
   "source": [
    "GRF_lite.write_guided_graphlet_network(f'../AndrogenReceptor_GGN_')"
   ]
  },
  {
   "cell_type": "code",
   "execution_count": null,
   "id": "bibliographic-legend",
   "metadata": {},
   "outputs": [],
   "source": []
  },
  {
   "cell_type": "code",
   "execution_count": null,
   "id": "fitting-supplier",
   "metadata": {},
   "outputs": [],
   "source": []
  },
  {
   "cell_type": "code",
   "execution_count": null,
   "id": "neural-shannon",
   "metadata": {},
   "outputs": [],
   "source": []
  }
 ],
 "metadata": {
  "kernelspec": {
   "display_name": "Python 3",
   "language": "python",
   "name": "python3"
  },
  "language_info": {
   "codemirror_mode": {
    "name": "ipython",
    "version": 3
   },
   "file_extension": ".py",
   "mimetype": "text/x-python",
   "name": "python",
   "nbconvert_exporter": "python",
   "pygments_lexer": "ipython3",
   "version": "3.6.12"
  }
 },
 "nbformat": 4,
 "nbformat_minor": 5
}
